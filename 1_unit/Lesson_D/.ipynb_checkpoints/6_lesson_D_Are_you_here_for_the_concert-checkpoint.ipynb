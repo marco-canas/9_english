{
 "cells": [
  {
   "cell_type": "markdown",
   "id": "50ddeafd",
   "metadata": {
    "slideshow": {
     "slide_type": "slide"
    }
   },
   "source": [
    "<table align=\"left\">\n",
    "  <td>\n",
    "    <a href=\"https://colab.research.google.com/github/marco-canas/didactica_ciencia_datos/blob/main/propuesta/unidad_didac/0_python/2_estructuras_datos/2_tuplas/tuplas.ipynb\" target=\"_parent\"><img src=\"https://colab.research.google.com/assets/colab-badge.svg\" alt=\"Open In Colab\"/></a>\n",
    "  </td>\n",
    "</table>"
   ]
  },
  {
   "cell_type": "markdown",
   "id": "63b83d7a",
   "metadata": {
    "slideshow": {
     "slide_type": "slide"
    }
   },
   "source": [
    "### [Video de repaso de la lección]() "
   ]
  },
  {
   "cell_type": "markdown",
   "id": "7b9ae034",
   "metadata": {
    "slideshow": {
     "slide_type": "slide"
    }
   },
   "source": [
    "# 6 Lesson D. Are you here for the concert?  "
   ]
  },
  {
   "cell_type": "markdown",
   "id": "d4a8dc02",
   "metadata": {
    "slideshow": {
     "slide_type": "slide"
    }
   },
   "source": [
    "Veremos estrategias de conversación: How about you? "
   ]
  },
  {
   "cell_type": "markdown",
   "id": "0499668c",
   "metadata": {
    "slideshow": {
     "slide_type": "slide"
    }
   },
   "source": [
    "Now, Let's Start. "
   ]
  },
  {
   "cell_type": "markdown",
   "id": "6b9480e7",
   "metadata": {
    "slideshow": {
     "slide_type": "slide"
    }
   },
   "source": [
    "* How about you?  \n",
    "* Are you a new student? "
   ]
  },
  {
   "cell_type": "markdown",
   "id": "f481aa15",
   "metadata": {
    "slideshow": {
     "slide_type": "slide"
    }
   },
   "source": [
    "## Conversation: \n",
    "\n",
    "can you the complete the conversation with these questions?  \n",
    "\n",
    "* How about you?\n",
    "* Are you a new student?"
   ]
  },
  {
   "cell_type": "markdown",
   "id": "febfd528",
   "metadata": {
    "slideshow": {
     "slide_type": "slide"
    }
   },
   "source": [
    "* Are you a new student?\n",
    "* Yes, I am. How about you?\n",
    "* Yes, me too. "
   ]
  },
  {
   "cell_type": "markdown",
   "id": "463efed8",
   "metadata": {
    "slideshow": {
     "slide_type": "slide"
    }
   },
   "source": [
    "Now Listen. Are Alicia and Adam friends?"
   ]
  },
  {
   "cell_type": "markdown",
   "id": "7143fb69",
   "metadata": {
    "slideshow": {
     "slide_type": "slide"
    }
   },
   "source": [
    "## Audio script "
   ]
  },
  {
   "cell_type": "markdown",
   "id": "17be2bb7",
   "metadata": {
    "slideshow": {
     "slide_type": "slide"
    }
   },
   "source": [
    "* It's a beautiful day. \n",
    "* Yeah, It is. \n",
    "* Are you here for the concert? \n",
    "* Yeah, I am. How about you? \n",
    "* Yeah, me too. So, are you a student here? \n",
    "* Yeah, How about you?\n",
    "* No. I'm here on vacation\n",
    "* Nice. By the way, I'm Adam.\n",
    "* Hi, Adam. I'm Alicia."
   ]
  },
  {
   "cell_type": "markdown",
   "id": "c56c7d13",
   "metadata": {
    "slideshow": {
     "slide_type": "slide"
    }
   },
   "source": [
    "# 2. Strategy plus. Everyday expression "
   ]
  },
  {
   "cell_type": "markdown",
   "id": "51f0b403",
   "metadata": {
    "slideshow": {
     "slide_type": "slide"
    }
   },
   "source": [
    "## A. Complete this conversations with expressions from the Satrategy plus box. "
   ]
  },
  {
   "cell_type": "markdown",
   "id": "9f59790c",
   "metadata": {
    "slideshow": {
     "slide_type": "slide"
    }
   },
   "source": [
    "Kathy: Good morning. Mrs Swan.    \n",
    "       How are you doing?  \n",
    "Make: Pretty good. How are you?  \n",
    "Kathy: Pretty good. \n"
   ]
  },
  {
   "cell_type": "markdown",
   "id": "af39648b",
   "metadata": {
    "slideshow": {
     "slide_type": "slide"
    }
   },
   "source": [
    "Later..."
   ]
  },
  {
   "cell_type": "markdown",
   "id": "82b2330c",
   "metadata": {
    "slideshow": {
     "slide_type": "slide"
    }
   },
   "source": [
    "Kathy: Bye. See you.   \n",
    "\n",
    "Mike: See you later. "
   ]
  },
  {
   "cell_type": "markdown",
   "id": "5bca6adb",
   "metadata": {},
   "source": [
    "Complete with a partner. "
   ]
  },
  {
   "cell_type": "markdown",
   "id": "0735b113",
   "metadata": {},
   "source": [
    "## Conversation 2"
   ]
  },
  {
   "cell_type": "markdown",
   "id": "569f39af",
   "metadata": {
    "slideshow": {
     "slide_type": "slide"
    }
   },
   "source": [
    "Jeff: Good morning. Mrs Swan.   \n",
    "      How are you?  \n",
    "      \n",
    "Mrs Swan: I'm fine.   \n",
    "          Thank you.   \n",
    "Later...\n",
    "\n",
    "Jeff: Good Bye. Mrs Swan.  \n",
    "Mrs Swan:  Good Bye. \n",
    "\n"
   ]
  },
  {
   "cell_type": "markdown",
   "id": "3ee2f69e",
   "metadata": {
    "slideshow": {
     "slide_type": "slide"
    }
   },
   "source": [
    "## Strategy plus: Estrategia adicional. "
   ]
  },
  {
   "cell_type": "markdown",
   "id": "cd60b311",
   "metadata": {
    "slideshow": {
     "slide_type": "slide"
    }
   },
   "source": [
    "|More formal|Less formal|  \n",
    "|-----------|-----------|  \n",
    "|yes|yeah|  \n",
    "|Thank you| Thanks.|  \n",
    "|Hello|Hi|  \n",
    "|How are you?| How area ypu doing?|    \n",
    "|I'm fine|Ok/pretty good/Good|    \n",
    "|Good Bye|Bye/See you/ See you later.|  \n",
    "\n",
    "\n",
    "\n",
    "\n",
    "We have finish "
   ]
  },
  {
   "cell_type": "code",
   "execution_count": null,
   "id": "416d05ba",
   "metadata": {
    "slideshow": {
     "slide_type": "slide"
    }
   },
   "outputs": [],
   "source": []
  },
  {
   "cell_type": "code",
   "execution_count": null,
   "id": "e8bd16a5",
   "metadata": {
    "slideshow": {
     "slide_type": "slide"
    }
   },
   "outputs": [],
   "source": []
  },
  {
   "cell_type": "code",
   "execution_count": null,
   "id": "3817f499",
   "metadata": {
    "slideshow": {
     "slide_type": "slide"
    }
   },
   "outputs": [],
   "source": []
  },
  {
   "cell_type": "code",
   "execution_count": null,
   "id": "173e74de",
   "metadata": {},
   "outputs": [],
   "source": []
  },
  {
   "cell_type": "code",
   "execution_count": null,
   "id": "b01e7e44",
   "metadata": {},
   "outputs": [],
   "source": []
  },
  {
   "cell_type": "code",
   "execution_count": null,
   "id": "5f14f7f3",
   "metadata": {},
   "outputs": [],
   "source": []
  }
 ],
 "metadata": {
  "celltoolbar": "Slideshow",
  "kernelspec": {
   "display_name": "Python 3 (ipykernel)",
   "language": "python",
   "name": "python3"
  },
  "language_info": {
   "codemirror_mode": {
    "name": "ipython",
    "version": 3
   },
   "file_extension": ".py",
   "mimetype": "text/x-python",
   "name": "python",
   "nbconvert_exporter": "python",
   "pygments_lexer": "ipython3",
   "version": "3.9.13"
  },
  "rise": {
   "enable_chalkboard": true,
   "theme": "sky"
  }
 },
 "nbformat": 4,
 "nbformat_minor": 5
}
