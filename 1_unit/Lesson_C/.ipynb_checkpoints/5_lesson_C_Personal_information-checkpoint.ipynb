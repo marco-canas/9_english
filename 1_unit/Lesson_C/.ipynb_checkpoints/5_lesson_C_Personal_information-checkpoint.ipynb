{
 "cells": [
  {
   "cell_type": "markdown",
   "id": "26b12c4f",
   "metadata": {
    "slideshow": {
     "slide_type": "slide"
    }
   },
   "source": [
    "<table align=\"left\">\n",
    "  <td>\n",
    "    <a href=\"https://colab.research.google.com/github/marco-canas/9_english/blob/main/1_unit/Lesson_C/5_lesson_C_Personal_information.ipynb\" target=\"_parent\"><img src=\"https://colab.research.google.com/assets/colab-badge.svg\" alt=\"Open In Colab\"/></a>\n",
    "  </td>\n",
    "</table>"
   ]
  },
  {
   "cell_type": "markdown",
   "id": "dedac8aa",
   "metadata": {
    "slideshow": {
     "slide_type": "slide"
    }
   },
   "source": [
    "### [Video de repaso a la lección]()"
   ]
  },
  {
   "cell_type": "markdown",
   "id": "db45856c",
   "metadata": {
    "slideshow": {
     "slide_type": "slide"
    }
   },
   "source": [
    "# 5 Unit 1 Lesson C: Personal Information"
   ]
  },
  {
   "cell_type": "markdown",
   "id": "eaa502d5",
   "metadata": {
    "slideshow": {
     "slide_type": "slide"
    }
   },
   "source": [
    "First to learn the numbers. "
   ]
  },
  {
   "cell_type": "markdown",
   "id": "3cd92adc",
   "metadata": {
    "slideshow": {
     "slide_type": "slide"
    }
   },
   "source": [
    "## 1. Numbers 0-10"
   ]
  },
  {
   "cell_type": "markdown",
   "id": "0947c4e0",
   "metadata": {
    "slideshow": {
     "slide_type": "slide"
    }
   },
   "source": [
    "### A. Listen a say the numbers "
   ]
  },
  {
   "cell_type": "markdown",
   "id": "cf1f738d",
   "metadata": {
    "slideshow": {
     "slide_type": "slide"
    }
   },
   "source": [
    "0, 1, 2, 3, 4, 5, 6, 7, 8, 9, 10"
   ]
  },
  {
   "cell_type": "markdown",
   "id": "f07996fc",
   "metadata": {
    "slideshow": {
     "slide_type": "slide"
    }
   },
   "source": [
    "zero - one - two - three - four - five - six - seven - eight - nine - ten "
   ]
  },
  {
   "cell_type": "markdown",
   "id": "7dc86d30",
   "metadata": {
    "slideshow": {
     "slide_type": "slide"
    }
   },
   "source": [
    "Ok. "
   ]
  },
  {
   "cell_type": "markdown",
   "id": "487f15cc",
   "metadata": {},
   "source": [
    "fanny. Perfect, let's continue. "
   ]
  },
  {
   "cell_type": "markdown",
   "id": "d413ead7",
   "metadata": {
    "slideshow": {
     "slide_type": "slide"
    }
   },
   "source": [
    "### B. Listen. Then practice.  "
   ]
  },
  {
   "cell_type": "markdown",
   "id": "cc8e08aa",
   "metadata": {
    "slideshow": {
     "slide_type": "slide"
    }
   },
   "source": [
    "My passport number is: 649 - 321 - 508"
   ]
  },
  {
   "cell_type": "markdown",
   "id": "fa7791c6",
   "metadata": {
    "slideshow": {
     "slide_type": "slide"
    }
   },
   "source": [
    "My ID number is 259 - 62 - 1883"
   ]
  },
  {
   "cell_type": "markdown",
   "id": "8df981c6",
   "metadata": {
    "slideshow": {
     "slide_type": "slide"
    }
   },
   "source": [
    "My phone number is 216-555-7708"
   ]
  },
  {
   "cell_type": "markdown",
   "id": "20159f4a",
   "metadata": {
    "slideshow": {
     "slide_type": "slide"
    }
   },
   "source": [
    "My e-mail address is dsmith6@cup.org "
   ]
  },
  {
   "cell_type": "markdown",
   "id": "ad8b8a27",
   "metadata": {
    "slideshow": {
     "slide_type": "slide"
    }
   },
   "source": [
    "# 2 Building language "
   ]
  },
  {
   "cell_type": "markdown",
   "id": "3d725706",
   "metadata": {
    "slideshow": {
     "slide_type": "slide"
    }
   },
   "source": [
    "## A. Listen. What is Victor's telephone number?\n",
    "\n",
    "Practice the conversation"
   ]
  },
  {
   "cell_type": "markdown",
   "id": "a48fc6d2",
   "metadata": {
    "slideshow": {
     "slide_type": "slide"
    }
   },
   "source": [
    "Receptionist: Hi! Are you a member?    \n",
    "Victor: No. I'm just here for the day.   \n",
    "Receptionist: Ok. So, what's your name, please?    \n",
    "Victor: Victor Lopez.  \n",
    "Receptionist: And what's your phone number?  \n",
    "Victor: It's 6-4-6 -5-5-5-3-0-4-8\n",
    "Receptionis: And your e-mail address?   \n",
    "Victor: Um...It's vlopez6@cup.org    \n",
    "Receptionist: Ok. So It's $10 for today.   \n",
    "              Here your pass.   \n",
    "Victor: Thanks.   \n",
    "\n"
   ]
  },
  {
   "cell_type": "markdown",
   "id": "76f9f21e",
   "metadata": {
    "slideshow": {
     "slide_type": "slide"
    }
   },
   "source": [
    "# 2. Building Language "
   ]
  },
  {
   "cell_type": "markdown",
   "id": "8e34d3e7",
   "metadata": {
    "slideshow": {
     "slide_type": "slide"
    }
   },
   "source": [
    "B. Can you complete these question and answers?"
   ]
  },
  {
   "cell_type": "markdown",
   "id": "40e97569",
   "metadata": {
    "slideshow": {
     "slide_type": "slide"
    }
   },
   "source": [
    "A. What's your name? "
   ]
  },
  {
   "cell_type": "markdown",
   "id": "7aa5b6c0",
   "metadata": {
    "slideshow": {
     "slide_type": "slide"
    }
   },
   "source": [
    "B. Joe Garret "
   ]
  },
  {
   "cell_type": "markdown",
   "id": "9ab62699",
   "metadata": {
    "slideshow": {
     "slide_type": "slide"
    }
   },
   "source": [
    "C. What's your e-mail address? "
   ]
  },
  {
   "cell_type": "markdown",
   "id": "15a2c8ce",
   "metadata": {
    "slideshow": {
     "slide_type": "slide"
    }
   },
   "source": [
    "D. It's marco.canas@udea.edu.co"
   ]
  },
  {
   "cell_type": "markdown",
   "id": "f3c8f9e5",
   "metadata": {
    "slideshow": {
     "slide_type": "slide"
    }
   },
   "source": [
    "E. What's your phone number? "
   ]
  },
  {
   "cell_type": "markdown",
   "id": "24b3bb1a",
   "metadata": {
    "slideshow": {
     "slide_type": "slide"
    }
   },
   "source": [
    "F. **It's**  3012391137. "
   ]
  },
  {
   "cell_type": "markdown",
   "id": "4e6ce55b",
   "metadata": {},
   "source": [
    "now practice with a partner"
   ]
  },
  {
   "cell_type": "markdown",
   "id": "aad821b6",
   "metadata": {
    "slideshow": {
     "slide_type": "slide"
    }
   },
   "source": [
    "# Preguntar por el nombre/apellido \n",
    "\n",
    "What's your name/ last name? "
   ]
  },
  {
   "cell_type": "markdown",
   "id": "f1241c62",
   "metadata": {
    "slideshow": {
     "slide_type": "slide"
    }
   },
   "source": [
    "# Preguntar por el correo\n",
    "\n",
    "What's your e-mail address? "
   ]
  },
  {
   "cell_type": "markdown",
   "id": "1fe8a7cd",
   "metadata": {
    "slideshow": {
     "slide_type": "slide"
    }
   },
   "source": [
    "# What's your phone number? "
   ]
  },
  {
   "cell_type": "markdown",
   "id": "b7807957",
   "metadata": {
    "slideshow": {
     "slide_type": "slide"
    }
   },
   "source": [
    "It's 3012391137"
   ]
  },
  {
   "cell_type": "markdown",
   "id": "268a428d",
   "metadata": {
    "slideshow": {
     "slide_type": "slide"
    }
   },
   "source": [
    "# 3. Grammar "
   ]
  },
  {
   "cell_type": "markdown",
   "id": "19b18cbb",
   "metadata": {
    "slideshow": {
     "slide_type": "slide"
    }
   },
   "source": [
    "## What...? it is..."
   ]
  },
  {
   "cell_type": "markdown",
   "id": "bff5fb75",
   "metadata": {
    "slideshow": {
     "slide_type": "slide"
    }
   },
   "source": [
    "What's your name? \n",
    "\n",
    "My name's Victor Lopez "
   ]
  },
  {
   "cell_type": "markdown",
   "id": "3842e5b5",
   "metadata": {
    "slideshow": {
     "slide_type": "slide"
    }
   },
   "source": [
    "What's your e-mail address?  \n",
    "\n",
    "It's vlopez6@cup.org  "
   ]
  },
  {
   "cell_type": "markdown",
   "id": "b55ed0cd",
   "metadata": {
    "slideshow": {
     "slide_type": "slide"
    }
   },
   "source": [
    "What's your phone numbert?   \n",
    "It's 646-555-3048  "
   ]
  },
  {
   "cell_type": "markdown",
   "id": "2d17c997",
   "metadata": {
    "slideshow": {
     "slide_type": "slide"
    }
   },
   "source": [
    "what's = what is  \n",
    "\n",
    "name's = name is   \n",
    "It's = It is  "
   ]
  },
  {
   "cell_type": "markdown",
   "id": "c2e691e3",
   "metadata": {
    "slideshow": {
     "slide_type": "slide"
    }
   },
   "source": [
    "### In conversation  \n",
    "\n",
    "**Phone** is 6 times more common that **telephone**   \n"
   ]
  },
  {
   "cell_type": "markdown",
   "id": "2654da14",
   "metadata": {},
   "source": [
    "# 3 Grammar  \n",
    "What's ...? It's "
   ]
  },
  {
   "cell_type": "markdown",
   "id": "ca18c7d1",
   "metadata": {
    "slideshow": {
     "slide_type": "slide"
    }
   },
   "source": [
    "### A. Mach the questions and anwers"
   ]
  },
  {
   "cell_type": "markdown",
   "id": "f76b081a",
   "metadata": {
    "slideshow": {
     "slide_type": "slide"
    }
   },
   "source": [
    "\\begin{matrix} \n",
    "\\text{1. What's your teacher's name?} &  &  & b.\\text{It's Mr. Gardino}  \\\\\n",
    "\\text{2. What's your first name?} &&& \\text{a. Rachel} \\\\\n",
    "\\end{matrix} "
   ]
  },
  {
   "cell_type": "markdown",
   "id": "0fde3a8c",
   "metadata": {
    "slideshow": {
     "slide_type": "slide"
    }
   },
   "source": []
  },
  {
   "cell_type": "code",
   "execution_count": null,
   "id": "b2d39922",
   "metadata": {
    "slideshow": {
     "slide_type": "slide"
    }
   },
   "outputs": [],
   "source": []
  },
  {
   "cell_type": "code",
   "execution_count": null,
   "id": "63a0291f",
   "metadata": {},
   "outputs": [],
   "source": []
  },
  {
   "cell_type": "markdown",
   "id": "1b683f49",
   "metadata": {
    "slideshow": {
     "slide_type": "slide"
    }
   },
   "source": [
    "# 4. Listening and speaking. Memberships "
   ]
  },
  {
   "cell_type": "code",
   "execution_count": null,
   "id": "c081956b",
   "metadata": {
    "slideshow": {
     "slide_type": "slide"
    }
   },
   "outputs": [],
   "source": []
  },
  {
   "cell_type": "markdown",
   "id": "28212e8c",
   "metadata": {
    "slideshow": {
     "slide_type": "slide"
    }
   },
   "source": [
    "is very important to spell "
   ]
  },
  {
   "cell_type": "markdown",
   "id": "2b647b8e",
   "metadata": {
    "slideshow": {
     "slide_type": "slide"
    }
   },
   "source": [
    "number by number"
   ]
  },
  {
   "cell_type": "markdown",
   "id": "8d82c064",
   "metadata": {
    "slideshow": {
     "slide_type": "slide"
    }
   },
   "source": [
    "## Lesson C. Names"
   ]
  },
  {
   "cell_type": "markdown",
   "id": "c3645dea",
   "metadata": {
    "slideshow": {
     "slide_type": "slide"
    }
   },
   "source": [
    "Unit 1  \n",
    "Preguntar por el nombre/ apellido. "
   ]
  },
  {
   "cell_type": "markdown",
   "id": "1bf7f6e5",
   "metadata": {
    "slideshow": {
     "slide_type": "slide"
    }
   },
   "source": [
    "What's your name / last name. "
   ]
  },
  {
   "cell_type": "markdown",
   "id": "bc5e555e",
   "metadata": {
    "slideshow": {
     "slide_type": "slide"
    }
   },
   "source": [
    "preguntar por el correo  \n",
    "\n",
    "what's your e-mail address? "
   ]
  },
  {
   "cell_type": "markdown",
   "id": "94171e15",
   "metadata": {
    "slideshow": {
     "slide_type": "slide"
    }
   },
   "source": [
    "Preguntar por el número celular    \n",
    "what's your phone number?  "
   ]
  },
  {
   "cell_type": "markdown",
   "id": "b29e7b3b",
   "metadata": {
    "slideshow": {
     "slide_type": "slide"
    }
   },
   "source": [
    "## Ejemplos con what's "
   ]
  },
  {
   "cell_type": "markdown",
   "id": "05f24b9e",
   "metadata": {
    "slideshow": {
     "slide_type": "slide"
    }
   },
   "source": [
    "what's your favorite color?   \n",
    "¿cuál es su color favorito?"
   ]
  },
  {
   "cell_type": "markdown",
   "id": "0b2ab84d",
   "metadata": {
    "slideshow": {
     "slide_type": "slide"
    }
   },
   "source": [
    "what's your passport number? \n",
    "\n",
    "¿cuál es el número de tú pasaporte?  "
   ]
  },
  {
   "cell_type": "markdown",
   "id": "bf5dcec9",
   "metadata": {
    "slideshow": {
     "slide_type": "slide"
    }
   },
   "source": [
    "what's your father's name? "
   ]
  },
  {
   "cell_type": "markdown",
   "id": "0340fb11",
   "metadata": {
    "slideshow": {
     "slide_type": "slide"
    }
   },
   "source": [
    "what's your sky user? "
   ]
  },
  {
   "cell_type": "markdown",
   "id": "6c12bb93",
   "metadata": {
    "slideshow": {
     "slide_type": "slide"
    }
   },
   "source": [
    "Ok, your ready. "
   ]
  },
  {
   "cell_type": "code",
   "execution_count": null,
   "id": "83df3a35",
   "metadata": {
    "slideshow": {
     "slide_type": "slide"
    }
   },
   "outputs": [],
   "source": []
  },
  {
   "cell_type": "code",
   "execution_count": null,
   "id": "c9c762ae",
   "metadata": {
    "slideshow": {
     "slide_type": "slide"
    }
   },
   "outputs": [],
   "source": []
  },
  {
   "cell_type": "code",
   "execution_count": null,
   "id": "2589296d",
   "metadata": {},
   "outputs": [],
   "source": []
  },
  {
   "cell_type": "code",
   "execution_count": null,
   "id": "f1175723",
   "metadata": {},
   "outputs": [],
   "source": []
  },
  {
   "cell_type": "code",
   "execution_count": null,
   "id": "f7fc595a",
   "metadata": {},
   "outputs": [],
   "source": []
  },
  {
   "cell_type": "code",
   "execution_count": null,
   "id": "53fc267c",
   "metadata": {
    "slideshow": {
     "slide_type": "slide"
    }
   },
   "outputs": [],
   "source": []
  }
 ],
 "metadata": {
  "celltoolbar": "Slideshow",
  "kernelspec": {
   "display_name": "Python 3 (ipykernel)",
   "language": "python",
   "name": "python3"
  },
  "language_info": {
   "codemirror_mode": {
    "name": "ipython",
    "version": 3
   },
   "file_extension": ".py",
   "mimetype": "text/x-python",
   "name": "python",
   "nbconvert_exporter": "python",
   "pygments_lexer": "ipython3",
   "version": "3.9.13"
  }
 },
 "nbformat": 4,
 "nbformat_minor": 5
}
