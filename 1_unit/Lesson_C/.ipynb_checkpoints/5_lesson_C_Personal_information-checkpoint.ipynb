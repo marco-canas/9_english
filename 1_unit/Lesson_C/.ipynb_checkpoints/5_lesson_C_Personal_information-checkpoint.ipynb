{
 "cells": [
  {
   "cell_type": "markdown",
   "id": "26b12c4f",
   "metadata": {
    "slideshow": {
     "slide_type": "slide"
    }
   },
   "source": [
    "<table align=\"left\">\n",
    "  <td>\n",
    "    <a href=\"https://colab.research.google.com/github/marco-canas/9_english/blob/main/1_unit/Lesson_C/5_lesson_C_Personal_information.ipynb\" target=\"_parent\"><img src=\"https://colab.research.google.com/assets/colab-badge.svg\" alt=\"Open In Colab\"/></a>\n",
    "  </td>\n",
    "</table>"
   ]
  },
  {
   "cell_type": "markdown",
   "id": "dedac8aa",
   "metadata": {
    "slideshow": {
     "slide_type": "slide"
    }
   },
   "source": [
    "### [Video de repaso a la lección]()"
   ]
  },
  {
   "cell_type": "markdown",
   "id": "db45856c",
   "metadata": {
    "slideshow": {
     "slide_type": "slide"
    }
   },
   "source": [
    "# 5 Lesson C: Personal Information"
   ]
  },
  {
   "cell_type": "markdown",
   "id": "3cd92adc",
   "metadata": {
    "slideshow": {
     "slide_type": "slide"
    }
   },
   "source": [
    "## 1. Numbers 0-10"
   ]
  },
  {
   "cell_type": "markdown",
   "id": "0947c4e0",
   "metadata": {
    "slideshow": {
     "slide_type": "slide"
    }
   },
   "source": [
    "### A. Listen a say the numbers "
   ]
  },
  {
   "cell_type": "markdown",
   "id": "cf1f738d",
   "metadata": {
    "slideshow": {
     "slide_type": "slide"
    }
   },
   "source": [
    "0, 1, 2, 3, 4, 5, 6, 7, 8, 9, 10"
   ]
  },
  {
   "cell_type": "markdown",
   "id": "f07996fc",
   "metadata": {
    "slideshow": {
     "slide_type": "slide"
    }
   },
   "source": [
    "zero - one - two - three - four - five - six - seven - eight - nine - ten "
   ]
  },
  {
   "cell_type": "markdown",
   "id": "d413ead7",
   "metadata": {
    "slideshow": {
     "slide_type": "slide"
    }
   },
   "source": [
    "### B. Listen the practice.  "
   ]
  },
  {
   "cell_type": "markdown",
   "id": "cc8e08aa",
   "metadata": {
    "slideshow": {
     "slide_type": "slide"
    }
   },
   "source": [
    "My passport number is: 649 - 321 - 508"
   ]
  },
  {
   "cell_type": "markdown",
   "id": "fa7791c6",
   "metadata": {
    "slideshow": {
     "slide_type": "slide"
    }
   },
   "source": [
    "My ID number is 259 - "
   ]
  },
  {
   "cell_type": "markdown",
   "id": "8df981c6",
   "metadata": {
    "slideshow": {
     "slide_type": "slide"
    }
   },
   "source": [
    "My phone number is 216"
   ]
  },
  {
   "cell_type": "markdown",
   "id": "20159f4a",
   "metadata": {
    "slideshow": {
     "slide_type": "slide"
    }
   },
   "source": [
    "My e-mail address is dsmith6@cup.org "
   ]
  },
  {
   "cell_type": "markdown",
   "id": "ad8b8a27",
   "metadata": {
    "slideshow": {
     "slide_type": "slide"
    }
   },
   "source": [
    "# Building language "
   ]
  },
  {
   "cell_type": "markdown",
   "id": "3d725706",
   "metadata": {
    "slideshow": {
     "slide_type": "slide"
    }
   },
   "source": [
    "## A. Listen What is Victor's telephone number\n",
    "\n",
    "Practice the conversation"
   ]
  },
  {
   "cell_type": "markdown",
   "id": "a48fc6d2",
   "metadata": {
    "slideshow": {
     "slide_type": "slide"
    }
   },
   "source": [
    "Receptionist: Hi! Are you a member?  \n",
    "Victor: No. I'm just here for the day. \n",
    "Receptionist: Ok. So, what's your name, please?  \n",
    "Victor: Victor Lopez.  \n",
    "Receptionist: And what's your phone number?  \n",
    "Victor: It's 6-4-6 -5-5-5-3-0-4-8\n"
   ]
  },
  {
   "cell_type": "markdown",
   "id": "76f9f21e",
   "metadata": {
    "slideshow": {
     "slide_type": "slide"
    }
   },
   "source": [
    "# 2. Building Language "
   ]
  },
  {
   "cell_type": "code",
   "execution_count": null,
   "id": "8e34d3e7",
   "metadata": {
    "slideshow": {
     "slide_type": "slide"
    }
   },
   "outputs": [],
   "source": []
  }
 ],
 "metadata": {
  "celltoolbar": "Slideshow",
  "kernelspec": {
   "display_name": "Python 3 (ipykernel)",
   "language": "python",
   "name": "python3"
  },
  "language_info": {
   "codemirror_mode": {
    "name": "ipython",
    "version": 3
   },
   "file_extension": ".py",
   "mimetype": "text/x-python",
   "name": "python",
   "nbconvert_exporter": "python",
   "pygments_lexer": "ipython3",
   "version": "3.9.13"
  }
 },
 "nbformat": 4,
 "nbformat_minor": 5
}
