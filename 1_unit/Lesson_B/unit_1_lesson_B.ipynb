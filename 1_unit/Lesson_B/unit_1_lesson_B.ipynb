{
 "cells": [
  {
   "cell_type": "markdown",
   "id": "6284e398",
   "metadata": {
    "slideshow": {
     "slide_type": "slide"
    }
   },
   "source": [
    "<table align=\"left\">\n",
    "  <td>\n",
    "    <a href=\"https://colab.research.google.com/github/marco-canas/10_pygame/blob/main/1_capitulo_instalar_pygame.ipynb\" target=\"_parent\"><img src=\"https://colab.research.google.com/assets/colab-badge.svg\" alt=\"Open In Colab\"/></a>\n",
    "  </td>\n",
    "</table>"
   ]
  },
  {
   "cell_type": "markdown",
   "id": "83785116",
   "metadata": {
    "slideshow": {
     "slide_type": "slide"
    }
   },
   "source": [
    "## [Video de repaso to this lesson B]()"
   ]
  },
  {
   "cell_type": "markdown",
   "id": "3239a413",
   "metadata": {
    "slideshow": {
     "slide_type": "slide"
    }
   },
   "source": [
    "# Unit 1 Lesson B. Names "
   ]
  },
  {
   "cell_type": "markdown",
   "id": "93a88632",
   "metadata": {
    "slideshow": {
     "slide_type": "slide"
    }
   },
   "source": [
    "# Saying name in english\n",
    "\n"
   ]
  },
  {
   "cell_type": "markdown",
   "id": "867c63db",
   "metadata": {
    "slideshow": {
     "slide_type": "slide"
    }
   },
   "source": []
  },
  {
   "cell_type": "markdown",
   "id": "b54e8e8f",
   "metadata": {
    "slideshow": {
     "slide_type": "slide"
    }
   },
   "source": [
    "### Unit 1"
   ]
  },
  {
   "cell_type": "markdown",
   "id": "7d6f788d",
   "metadata": {
    "slideshow": {
     "slide_type": "slide"
    }
   },
   "source": [
    "The verb BE: ser o estar"
   ]
  },
  {
   "cell_type": "markdown",
   "id": "831ff8c5",
   "metadata": {
    "slideshow": {
     "slide_type": "slide"
    }
   },
   "source": [
    "El verbo BE se escribe en inglés como AMAREIS: Am / Are / is"
   ]
  },
  {
   "cell_type": "markdown",
   "id": "842da5a1",
   "metadata": {
    "slideshow": {
     "slide_type": "slide"
    }
   },
   "source": [
    "I am Sebastian $\\to$ I'm Sebastian "
   ]
  },
  {
   "cell_type": "markdown",
   "id": "ae11fa7d",
   "metadata": {
    "slideshow": {
     "slide_type": "slide"
    }
   },
   "source": [
    "You are in the park $\\to$ You're in the park "
   ]
  },
  {
   "cell_type": "markdown",
   "id": "b69a72c9",
   "metadata": {
    "slideshow": {
     "slide_type": "slide"
    }
   },
   "source": [
    "We are in the same class $\\to$ We're in the same class "
   ]
  },
  {
   "cell_type": "markdown",
   "id": "b2b13005",
   "metadata": {
    "slideshow": {
     "slide_type": "slide"
    }
   },
   "source": [
    "# Negative sentences "
   ]
  },
  {
   "cell_type": "markdown",
   "id": "5d813c4b",
   "metadata": {
    "slideshow": {
     "slide_type": "slide"
    }
   },
   "source": [
    "1. You are in my English Class \n",
    "\n",
    "You're in my English Class $\\to$ You aren't in may English Class. "
   ]
  },
  {
   "cell_type": "markdown",
   "id": "50f33ef9",
   "metadata": {
    "slideshow": {
     "slide_type": "slide"
    }
   },
   "source": [
    "2. We are best friends  \n",
    "\n",
    "We're not best friends $\\to$ We aren't best friends. "
   ]
  },
  {
   "cell_type": "markdown",
   "id": "0d7f5e84",
   "metadata": {
    "slideshow": {
     "slide_type": "slide"
    }
   },
   "source": [
    "3. I am a good student \n",
    "\n",
    "I'm not a good student. "
   ]
  },
  {
   "cell_type": "markdown",
   "id": "47b6960c",
   "metadata": {
    "slideshow": {
     "slide_type": "slide"
    }
   },
   "source": [
    "4. We are in the library now \n",
    "\n",
    "We're in the library now $\\to$ We aren't in the library. "
   ]
  },
  {
   "cell_type": "markdown",
   "id": "5379e641",
   "metadata": {
    "slideshow": {
     "slide_type": "slide"
    }
   },
   "source": [
    "5. You are my love \n",
    "\n",
    "You're my love $\\to$ You aren't my love. "
   ]
  },
  {
   "cell_type": "markdown",
   "id": "02179173",
   "metadata": {
    "slideshow": {
     "slide_type": "slide"
    }
   },
   "source": [
    "# Interrogative sentences "
   ]
  },
  {
   "cell_type": "markdown",
   "id": "1e51127a",
   "metadata": {
    "slideshow": {
     "slide_type": "slide"
    }
   },
   "source": [
    "1. You are in my English Class.   \n",
    "\n",
    "* Are you in my English Class?"
   ]
  },
  {
   "cell_type": "markdown",
   "id": "48e74c7a",
   "metadata": {
    "slideshow": {
     "slide_type": "slide"
    }
   },
   "source": [
    "2. We are best friend \n",
    "\n",
    "* Are we best friend? "
   ]
  },
  {
   "cell_type": "markdown",
   "id": "df7b0b99",
   "metadata": {
    "slideshow": {
     "slide_type": "slide"
    }
   },
   "source": [
    "3. I am a good student\n",
    "\n",
    "* Am I a good student? "
   ]
  },
  {
   "cell_type": "markdown",
   "id": "f539db8f",
   "metadata": {
    "slideshow": {
     "slide_type": "slide"
    }
   },
   "source": [
    "4. "
   ]
  },
  {
   "cell_type": "markdown",
   "id": "9ec0d995",
   "metadata": {
    "slideshow": {
     "slide_type": "slide"
    }
   },
   "source": []
  },
  {
   "cell_type": "markdown",
   "id": "5a2449b5",
   "metadata": {
    "slideshow": {
     "slide_type": "slide"
    }
   },
   "source": [
    "# 3. Grammar the verb be: I, you and we. "
   ]
  },
  {
   "cell_type": "markdown",
   "id": "3eb483d6",
   "metadata": {
    "slideshow": {
     "slide_type": "slide"
    }
   },
   "source": [
    "|I'm Jenny.|**Are you** Jenny?|\n",
    "|-|-|  \n",
    "|I'm not Carmen|Yes, I am/ No. I'm not| \n",
    "||**Am I** in room B?|\n",
    "||Yes, you are/ No, **you're not**|\n",
    "||**Are we** in the same class?|  \n",
    "||Yes, we are/ No, we're not|\n",
    "||you're = you are|\n",
    "||we're = we are|"
   ]
  },
  {
   "cell_type": "markdown",
   "id": "de88b469",
   "metadata": {
    "slideshow": {
     "slide_type": "slide"
    }
   },
   "source": [
    "I'm not Carmen. "
   ]
  },
  {
   "cell_type": "markdown",
   "id": "190b9a00",
   "metadata": {
    "slideshow": {
     "slide_type": "slide"
    }
   },
   "source": [
    "You're in Room G. "
   ]
  },
  {
   "cell_type": "markdown",
   "id": "1c844300",
   "metadata": {
    "slideshow": {
     "slide_type": "slide"
    }
   },
   "source": [
    "You're not in Room B. "
   ]
  },
  {
   "cell_type": "markdown",
   "id": "9bd44618",
   "metadata": {
    "slideshow": {
     "slide_type": "slide"
    }
   },
   "source": [
    "We're in different classes. "
   ]
  },
  {
   "cell_type": "markdown",
   "id": "059507c5",
   "metadata": {
    "slideshow": {
     "slide_type": "slide"
    }
   },
   "source": [
    "We're not in the same class.  "
   ]
  },
  {
   "cell_type": "markdown",
   "id": "46b8ab8f",
   "metadata": {
    "slideshow": {
     "slide_type": "slide"
    }
   },
   "source": [
    "I'm = I am. "
   ]
  },
  {
   "cell_type": "markdown",
   "id": "e0f5718c",
   "metadata": {
    "slideshow": {
     "slide_type": "slide"
    }
   },
   "source": [
    "Las contracciones son apropiadas en un inglés informal y conversacional.   \n",
    "En artículos científicos es mejor no contraer. "
   ]
  },
  {
   "cell_type": "markdown",
   "id": "b97fc360",
   "metadata": {
    "slideshow": {
     "slide_type": "slide"
    }
   },
   "source": [
    "# A. Complete the conversations "
   ]
  },
  {
   "cell_type": "code",
   "execution_count": null,
   "id": "a25519cb",
   "metadata": {
    "slideshow": {
     "slide_type": "slide"
    }
   },
   "outputs": [],
   "source": []
  },
  {
   "cell_type": "code",
   "execution_count": null,
   "id": "302579fc",
   "metadata": {
    "slideshow": {
     "slide_type": "slide"
    }
   },
   "outputs": [],
   "source": []
  },
  {
   "cell_type": "code",
   "execution_count": null,
   "id": "5311a568",
   "metadata": {
    "slideshow": {
     "slide_type": "slide"
    }
   },
   "outputs": [],
   "source": []
  }
 ],
 "metadata": {
  "celltoolbar": "Slideshow",
  "kernelspec": {
   "display_name": "Python 3 (ipykernel)",
   "language": "python",
   "name": "python3"
  },
  "language_info": {
   "codemirror_mode": {
    "name": "ipython",
    "version": 3
   },
   "file_extension": ".py",
   "mimetype": "text/x-python",
   "name": "python",
   "nbconvert_exporter": "python",
   "pygments_lexer": "ipython3",
   "version": "3.9.13"
  }
 },
 "nbformat": 4,
 "nbformat_minor": 5
}
