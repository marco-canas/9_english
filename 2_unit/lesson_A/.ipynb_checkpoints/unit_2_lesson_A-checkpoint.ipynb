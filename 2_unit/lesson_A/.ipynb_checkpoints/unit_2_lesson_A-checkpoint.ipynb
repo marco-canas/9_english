{
 "cells": [
  {
   "cell_type": "markdown",
   "id": "f1ddb15e",
   "metadata": {
    "slideshow": {
     "slide_type": "slide"
    }
   },
   "source": [
    "<table align=\"left\">\n",
    "  <td>\n",
    "    <a href=\"https://colab.research.google.com/github/marco-canas/10_pygame/blob/main/1_capitulo_instalar_pygame.ipynb\" target=\"_parent\"><img src=\"https://colab.research.google.com/assets/colab-badge.svg\" alt=\"Open In Colab\"/></a>\n",
    "  </td>\n",
    "</table>"
   ]
  },
  {
   "cell_type": "markdown",
   "id": "2669b70e",
   "metadata": {
    "slideshow": {
     "slide_type": "slide"
    }
   },
   "source": [
    "## [Video propio de repaso a la lección]()"
   ]
  },
  {
   "cell_type": "markdown",
   "id": "4a555443",
   "metadata": {
    "slideshow": {
     "slide_type": "slide"
    }
   },
   "source": [
    "# Unit 2"
   ]
  },
  {
   "cell_type": "markdown",
   "id": "11b208ab",
   "metadata": {
    "slideshow": {
     "slide_type": "slide"
    }
   },
   "source": [
    "### In unit 2, you learn how to...  \n",
    "\n",
    "* use the verb be with he, she, and they, this and these. \n",
    "* talk about things  and place in a classroom.  \n",
    "* ask for help in class\n",
    "* respond to thank you and I'm sorry. \n"
   ]
  },
  {
   "cell_type": "markdown",
   "id": "5bd4400f",
   "metadata": {
    "slideshow": {
     "slide_type": "slide"
    }
   },
   "source": [
    "## In class: Este va a ser el contexto de esta unidad. "
   ]
  },
  {
   "cell_type": "markdown",
   "id": "f6a6956b",
   "metadata": {
    "slideshow": {
     "slide_type": "slide"
    }
   },
   "source": [
    "### Before you begin"
   ]
  },
  {
   "cell_type": "markdown",
   "id": "f1a1170c",
   "metadata": {
    "slideshow": {
     "slide_type": "slide"
    }
   },
   "source": [
    "He's at home  \n",
    "She's at work  \n",
    "They're in class  \n",
    "They're in the Library. "
   ]
  },
  {
   "cell_type": "markdown",
   "id": "aa055df0",
   "metadata": {
    "slideshow": {
     "slide_type": "slide"
    }
   },
   "source": [
    "# Lesson one- Classmates "
   ]
  },
  {
   "cell_type": "markdown",
   "id": "14b60715",
   "metadata": {
    "slideshow": {
     "slide_type": "slide"
    }
   },
   "source": [
    "## Getting started "
   ]
  },
  {
   "cell_type": "markdown",
   "id": "0e115134",
   "metadata": {
    "slideshow": {
     "slide_type": "slide"
    }
   },
   "source": [
    "## A. Listen. Where are Ana's classmates today? "
   ]
  },
  {
   "cell_type": "markdown",
   "id": "1c20dfc6",
   "metadata": {
    "slideshow": {
     "slide_type": "slide"
    }
   },
   "source": [
    "Practice the conversation"
   ]
  },
  {
   "cell_type": "markdown",
   "id": "126e1328",
   "metadata": {
    "slideshow": {
     "slide_type": "slide"
    }
   },
   "source": [
    "## B. Can you complete the questions and answers?  "
   ]
  },
  {
   "cell_type": "markdown",
   "id": "b3f1c872",
   "metadata": {
    "slideshow": {
     "slide_type": "slide"
    }
   },
   "source": [
    "2. The grammar. The verb BE. He, she and they. "
   ]
  },
  {
   "cell_type": "markdown",
   "id": "b6eae36a",
   "metadata": {
    "slideshow": {
     "slide_type": "slide"
    }
   },
   "source": [
    "## B. complete the questions"
   ]
  },
  {
   "cell_type": "code",
   "execution_count": null,
   "id": "c43e41c6",
   "metadata": {
    "slideshow": {
     "slide_type": "slide"
    }
   },
   "outputs": [],
   "source": []
  },
  {
   "cell_type": "code",
   "execution_count": null,
   "id": "0996dfcd",
   "metadata": {
    "slideshow": {
     "slide_type": "slide"
    }
   },
   "outputs": [],
   "source": []
  },
  {
   "cell_type": "code",
   "execution_count": null,
   "id": "a499e386",
   "metadata": {
    "slideshow": {
     "slide_type": "slide"
    }
   },
   "outputs": [],
   "source": []
  },
  {
   "cell_type": "code",
   "execution_count": null,
   "id": "ef158632",
   "metadata": {},
   "outputs": [],
   "source": []
  }
 ],
 "metadata": {
  "celltoolbar": "Slideshow",
  "kernelspec": {
   "display_name": "Python 3 (ipykernel)",
   "language": "python",
   "name": "python3"
  },
  "language_info": {
   "codemirror_mode": {
    "name": "ipython",
    "version": 3
   },
   "file_extension": ".py",
   "mimetype": "text/x-python",
   "name": "python",
   "nbconvert_exporter": "python",
   "pygments_lexer": "ipython3",
   "version": "3.9.13"
  }
 },
 "nbformat": 4,
 "nbformat_minor": 5
}
