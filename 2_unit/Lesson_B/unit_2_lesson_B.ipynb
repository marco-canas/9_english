{
 "cells": [
  {
   "cell_type": "markdown",
   "id": "bb2fecd0",
   "metadata": {
    "slideshow": {
     "slide_type": "slide"
    }
   },
   "source": [
    "<table align=\"left\">\n",
    "  <td>\n",
    "    <a href=\"https://colab.research.google.com/github/marco-canas/10_pygame/blob/main/1_capitulo_instalar_pygame.ipynb\" target=\"_parent\"><img src=\"https://colab.research.google.com/assets/colab-badge.svg\" alt=\"Open In Colab\"/></a>\n",
    "  </td>\n",
    "</table>"
   ]
  },
  {
   "cell_type": "markdown",
   "id": "c254c19c",
   "metadata": {
    "slideshow": {
     "slide_type": "slide"
    }
   },
   "source": [
    "## [Video de repaso de la lección B]() "
   ]
  },
  {
   "cell_type": "markdown",
   "id": "ed159890",
   "metadata": {
    "slideshow": {
     "slide_type": "slide"
    }
   },
   "source": [
    "# Unit 2. Lesson B"
   ]
  },
  {
   "cell_type": "markdown",
   "id": "38f16fec",
   "metadata": {
    "slideshow": {
     "slide_type": "slide"
    }
   },
   "source": [
    "## What's  your bag? \n",
    "## what's in your bag?"
   ]
  },
  {
   "cell_type": "markdown",
   "id": "d85d91ca",
   "metadata": {
    "slideshow": {
     "slide_type": "fragment"
    }
   },
   "source": [
    "¿Cuál es tu maleta?  \n",
    "¿qué está dentro de tú maleta?"
   ]
  },
  {
   "cell_type": "markdown",
   "id": "16cafb41",
   "metadata": {},
   "source": [
    "The topic is the articles "
   ]
  },
  {
   "cell_type": "markdown",
   "id": "308f4a5c",
   "metadata": {
    "slideshow": {
     "slide_type": "slide"
    }
   },
   "source": [
    "# The articles"
   ]
  },
  {
   "cell_type": "markdown",
   "id": "26af71ef",
   "metadata": {
    "slideshow": {
     "slide_type": "slide"
    }
   },
   "source": [
    "Definido: El, La, Los, Las. (The)"
   ]
  },
  {
   "cell_type": "markdown",
   "id": "bd41acb1",
   "metadata": {
    "slideshow": {
     "slide_type": "slide"
    }
   },
   "source": [
    "Indefinido: un, una, (A, An). Veamos cómo trabajan estos artículos con algunos ejemplos. "
   ]
  },
  {
   "cell_type": "markdown",
   "id": "c002eef3",
   "metadata": {
    "slideshow": {
     "slide_type": "slide"
    }
   },
   "source": [
    "## Example: \n",
    "\n",
    "* This is **a** map. \n",
    "\n",
    "* This is **a** car. \n",
    "\n",
    "* This is **an** apple.\n",
    "\n",
    "* This is **an** elephant.  \n",
    "\n",
    "* This is **a** banana. "
   ]
  },
  {
   "cell_type": "markdown",
   "id": "bbbe8d2e",
   "metadata": {
    "slideshow": {
     "slide_type": "slide"
    }
   },
   "source": [
    "Nos debe interesar cómo inicia la palabra después del artículo. "
   ]
  },
  {
   "cell_type": "markdown",
   "id": "63aff238",
   "metadata": {
    "slideshow": {
     "slide_type": "slide"
    }
   },
   "source": [
    "La clave de la elección de *a* o *an* está en la consonante"
   ]
  },
  {
   "cell_type": "markdown",
   "id": "50addd9c",
   "metadata": {
    "slideshow": {
     "slide_type": "slide"
    }
   },
   "source": [
    "$$ a + consonat \\ sound $$\n",
    "\n",
    "a bag "
   ]
  },
  {
   "cell_type": "markdown",
   "id": "97219760",
   "metadata": {
    "slideshow": {
     "slide_type": "slide"
    }
   },
   "source": [
    "$$ an + vowel\\  sound $$\n",
    "\n",
    "an eraser"
   ]
  },
  {
   "cell_type": "markdown",
   "id": "0ea54203",
   "metadata": {
    "slideshow": {
     "slide_type": "slide"
    }
   },
   "source": [
    "repeat after me"
   ]
  },
  {
   "cell_type": "markdown",
   "id": "1a720194",
   "metadata": {
    "slideshow": {
     "slide_type": "slide"
    }
   },
   "source": [
    "* an umbrella  \n",
    "* a pencil  \n",
    "* an eraser \n",
    "* a pen. \n",
    "* a bag\n",
    "* a cell phone. \n",
    "* a notebook  \n",
    "* an english book. \n",
    "* an address book.\n",
    "* a snack.\n",
    "* a dictionary.\n",
    "* a wallet. \n"
   ]
  },
  {
   "cell_type": "markdown",
   "id": "8ae37be2",
   "metadata": {
    "slideshow": {
     "slide_type": "slide"
    }
   },
   "source": [
    "Let's compare"
   ]
  },
  {
   "cell_type": "markdown",
   "id": "1d2c3824",
   "metadata": {},
   "source": [
    "very good. Excellent. "
   ]
  },
  {
   "cell_type": "markdown",
   "id": "39feb7b3",
   "metadata": {
    "slideshow": {
     "slide_type": "slide"
    }
   },
   "source": [
    "## Listen and repeat"
   ]
  },
  {
   "cell_type": "markdown",
   "id": "b80df0e5",
   "metadata": {
    "slideshow": {
     "slide_type": "slide"
    }
   },
   "source": [
    "# 1. Built Vocabulary"
   ]
  },
  {
   "cell_type": "markdown",
   "id": "5b598dd5",
   "metadata": {
    "slideshow": {
     "slide_type": "slide"
    }
   },
   "source": [
    "## B. Make to list of things you take to class. \n",
    "\n",
    "Use a and an \n",
    "\n",
    "Haga una lista de cosas que usted lleva a clase. \n",
    "\n",
    "Use *a* y *an*. "
   ]
  },
  {
   "cell_type": "markdown",
   "id": "646451eb",
   "metadata": {
    "slideshow": {
     "slide_type": "slide"
    }
   },
   "source": [
    "|a|an|\n",
    "|-|--|  \n",
    "|a pencil|an umbrella| \n",
    "|a book |an eraser|  \n",
    "|a pencil case||  \n",
    "|a notebook||\n",
    "|a ruler|| \n",
    "|a pencil sharpener|| \n",
    "|a pen||  \n",
    "|a crayon||  \n",
    "|a school bag||  \n",
    "|a table||  \n",
    "|a board||  \n",
    "|a desk||  \n",
    "|a chair||  \n",
    "|a scissors: tijeras||  \n",
    "|a backpack: mochila||  \n",
    "||| \n",
    "|||  \n",
    "|||\n",
    "\n"
   ]
  },
  {
   "cell_type": "markdown",
   "id": "baeb0b39",
   "metadata": {
    "slideshow": {
     "slide_type": "slide"
    }
   },
   "source": [
    "a pencil case: una caja de lápices. "
   ]
  },
  {
   "cell_type": "markdown",
   "id": "7635d942",
   "metadata": {
    "slideshow": {
     "slide_type": "slide"
    }
   },
   "source": [
    "# 2. Building language  \n",
    "\n",
    "\n",
    "# A. Listen. Which things are bill's?\n",
    "\n",
    "Escuche. ¿Qué cosas son de Bill?  \n"
   ]
  },
  {
   "cell_type": "markdown",
   "id": "ebf4682b",
   "metadata": {
    "slideshow": {
     "slide_type": "slide"
    }
   },
   "source": [
    "### practice the conversations."
   ]
  },
  {
   "cell_type": "markdown",
   "id": "13793f79",
   "metadata": {
    "slideshow": {
     "slide_type": "slide"
    }
   },
   "source": [
    "## Andy and Bill"
   ]
  },
  {
   "cell_type": "markdown",
   "id": "022140a5",
   "metadata": {
    "slideshow": {
     "slide_type": "slide"
    }
   },
   "source": [
    "Andy: **What's this?**  \n",
    "Bill: **It's an MP3 player. It's my new toy.**   \n"
   ]
  },
  {
   "cell_type": "markdown",
   "id": "2d6679c3",
   "metadata": {
    "slideshow": {
     "slide_type": "slide"
    }
   },
   "source": [
    "# Michi and Bill\n",
    "\n",
    "Michi: **Is this your wach, Bill?**  \n",
    "Bill: **Oh yes. It is. Thanks**   \n",
    "       **And are this your glasses?**  \n",
    "Michi: **Yes, they are.**          \n",
    "\n"
   ]
  },
  {
   "cell_type": "markdown",
   "id": "e093d9b1",
   "metadata": {
    "slideshow": {
     "slide_type": "slide"
    }
   },
   "source": [
    "Scott and Bill.  \n",
    "\n",
    "Scott: **Excuse me. Are these your keys?**  \n",
    "Bill: **Um...No, they're not**  \n",
    "      **These are my keys right here.**   "
   ]
  },
  {
   "cell_type": "markdown",
   "id": "51883fb5",
   "metadata": {
    "slideshow": {
     "slide_type": "slide"
    }
   },
   "source": [
    "## B. Can you complete these questions? Use your own ideas. "
   ]
  },
  {
   "cell_type": "markdown",
   "id": "13320fd9",
   "metadata": {
    "slideshow": {
     "slide_type": "slide"
    }
   },
   "source": [
    "Is this your wach, Bill? "
   ]
  },
  {
   "cell_type": "markdown",
   "id": "a2d50371",
   "metadata": {
    "slideshow": {
     "slide_type": "slide"
    }
   },
   "source": [
    "Are these your keys?"
   ]
  },
  {
   "cell_type": "code",
   "execution_count": null,
   "id": "dd1df7c2",
   "metadata": {
    "slideshow": {
     "slide_type": "slide"
    }
   },
   "outputs": [],
   "source": []
  },
  {
   "cell_type": "markdown",
   "id": "1134580c",
   "metadata": {
    "slideshow": {
     "slide_type": "slide"
    }
   },
   "source": [
    "# Lesson B. "
   ]
  },
  {
   "cell_type": "markdown",
   "id": "a5f32da2",
   "metadata": {
    "slideshow": {
     "slide_type": "slide"
    }
   },
   "source": [
    "# What's in your bag? "
   ]
  },
  {
   "cell_type": "markdown",
   "id": "464624c5",
   "metadata": {
    "slideshow": {
     "slide_type": "slide"
    }
   },
   "source": [
    "## Demostrativos en inglés"
   ]
  },
  {
   "cell_type": "markdown",
   "id": "df4b97e8",
   "metadata": {
    "slideshow": {
     "slide_type": "slide"
    }
   },
   "source": [
    "los adjetivos demostrativos se utilizan para determinar la posición de las cosas (lejos o cerca). "
   ]
  },
  {
   "cell_type": "markdown",
   "id": "8dacf346",
   "metadata": {
    "slideshow": {
     "slide_type": "slide"
    }
   },
   "source": [
    "En inglés solo encontramos dos grados de proximidad. "
   ]
  },
  {
   "cell_type": "markdown",
   "id": "bbd0a565",
   "metadata": {
    "slideshow": {
     "slide_type": "slide"
    }
   },
   "source": [
    "**This**, que se utiliza para designar las cosas relativamenye cercanas.  "
   ]
  },
  {
   "cell_type": "markdown",
   "id": "cedd420e",
   "metadata": {
    "slideshow": {
     "slide_type": "slide"
    }
   },
   "source": [
    "Y **that**, para las más alejadas. "
   ]
  },
  {
   "cell_type": "markdown",
   "id": "3c907ff9",
   "metadata": {
    "slideshow": {
     "slide_type": "slide"
    }
   },
   "source": [
    "# Plural de los demostrativos"
   ]
  },
  {
   "cell_type": "markdown",
   "id": "e8eac1bf",
   "metadata": {
    "slideshow": {
     "slide_type": "slide"
    }
   },
   "source": [
    "$$ \\begin{matrix} \\text{singular} & \\text{This} & \\text{These} & \\\\\n",
    "\\text{usa el auxiliar is} &&& \\\\\n",
    " & \\text{That} & \\text{Those} & \\end{matrix} $$"
   ]
  },
  {
   "cell_type": "markdown",
   "id": "1efdf4ce",
   "metadata": {
    "slideshow": {
     "slide_type": "slide"
    }
   },
   "source": [
    "Ok. Perfect. Nice"
   ]
  },
  {
   "cell_type": "markdown",
   "id": "eac1ec6d",
   "metadata": {
    "slideshow": {
     "slide_type": "slide"
    }
   },
   "source": [
    "We can continue. "
   ]
  },
  {
   "cell_type": "markdown",
   "id": "6bdc3699",
   "metadata": {
    "slideshow": {
     "slide_type": "slide"
    }
   },
   "source": [
    "Listen carefully"
   ]
  },
  {
   "cell_type": "markdown",
   "id": "b7cdb36d",
   "metadata": {
    "slideshow": {
     "slide_type": "slide"
    }
   },
   "source": [
    "This is my bag  \n",
    "What is this??"
   ]
  },
  {
   "cell_type": "markdown",
   "id": "f8b3494a",
   "metadata": {
    "slideshow": {
     "slide_type": "slide"
    }
   },
   "source": [
    "That: ese o esa. "
   ]
  },
  {
   "cell_type": "markdown",
   "id": "eaef1eac",
   "metadata": {
    "slideshow": {
     "slide_type": "slide"
    }
   },
   "source": [
    "* These are my bags\n",
    "* what are this?"
   ]
  },
  {
   "cell_type": "markdown",
   "id": "d69f85f2",
   "metadata": {
    "slideshow": {
     "slide_type": "slide"
    }
   },
   "source": [
    "* Those are my car.\n",
    "* what are those? "
   ]
  },
  {
   "cell_type": "markdown",
   "id": "22ec6a96",
   "metadata": {
    "slideshow": {
     "slide_type": "slide"
    }
   },
   "source": [
    "* Para efectos de la unidad solamente utilizaremos los primeros dos adjetivos de cercanía, es decir, this y These.  \n",
    "* Los otros dos, es decir, los adjetivos de lejanía los usaremos de manera transversal a las unidades. "
   ]
  },
  {
   "cell_type": "markdown",
   "id": "cf783246",
   "metadata": {
    "slideshow": {
     "slide_type": "slide"
    }
   },
   "source": [
    "3. Grammar\n",
    "\n",
    "This and These. Noum plurals. \n"
   ]
  },
  {
   "cell_type": "markdown",
   "id": "fe670b47",
   "metadata": {
    "slideshow": {
     "slide_type": "slide"
    }
   },
   "source": [
    "Los demostrativos singulares son **this** and **that**."
   ]
  },
  {
   "cell_type": "markdown",
   "id": "5770d6e4",
   "metadata": {
    "slideshow": {
     "slide_type": "slide"
    }
   },
   "source": [
    "## Regular plurals"
   ]
  },
  {
   "cell_type": "markdown",
   "id": "588562ed",
   "metadata": {
    "slideshow": {
     "slide_type": "slide"
    }
   },
   "source": [
    "* man - men  \n",
    "* woman - women  \n",
    "* child - child**ren**"
   ]
  },
  {
   "cell_type": "markdown",
   "id": "3e22505c",
   "metadata": {
    "slideshow": {
     "slide_type": "slide"
    }
   },
   "source": [
    "# Singular - plurals"
   ]
  },
  {
   "cell_type": "markdown",
   "id": "a73c4735",
   "metadata": {
    "slideshow": {
     "slide_type": "slide"
    }
   },
   "source": [
    "It's an mp3 player - They are an mp3 players \n",
    "\n",
    "es sorprendente que se use el artículo ondefinido an siendo que el sujeto empieza en consonante. "
   ]
  },
  {
   "cell_type": "markdown",
   "id": "714ea99b",
   "metadata": {
    "slideshow": {
     "slide_type": "slide"
    }
   },
   "source": [
    "# Reglas para formar plurales de sustantivos"
   ]
  },
  {
   "cell_type": "markdown",
   "id": "be89ef05",
   "metadata": {
    "slideshow": {
     "slide_type": "slide"
    }
   },
   "source": [
    "bag - bags "
   ]
  },
  {
   "cell_type": "markdown",
   "id": "7870b817",
   "metadata": {
    "slideshow": {
     "slide_type": "subslide"
    }
   },
   "source": [
    "watch - watch**es**  Si termina en ch se agrega es para hacerlo plural.   \n",
    "\n",
    "o cuando termina en **s** o en **x** sele agrega **es** para formar el plural:  \n",
    "* bus - busses  \n",
    "* fox - foxes: zorro - sorros"
   ]
  },
  {
   "cell_type": "markdown",
   "id": "bacf4467",
   "metadata": {
    "slideshow": {
     "slide_type": "slide"
    }
   },
   "source": [
    "dictiona**ry** - dictionar**ies**"
   ]
  },
  {
   "cell_type": "markdown",
   "id": "6015d4a6",
   "metadata": {
    "slideshow": {
     "slide_type": "slide"
    }
   },
   "source": [
    "Key - Keys"
   ]
  },
  {
   "cell_type": "markdown",
   "id": "ae09eefc",
   "metadata": {
    "slideshow": {
     "slide_type": "slide"
    }
   },
   "source": [
    "fish - fishs"
   ]
  },
  {
   "cell_type": "markdown",
   "id": "b9ad353d",
   "metadata": {
    "slideshow": {
     "slide_type": "slide"
    }
   },
   "source": [
    "# Irregular plurals "
   ]
  },
  {
   "cell_type": "markdown",
   "id": "8714344e",
   "metadata": {
    "slideshow": {
     "slide_type": "slide"
    }
   },
   "source": [
    "man - men"
   ]
  },
  {
   "cell_type": "markdown",
   "id": "40f59cfb",
   "metadata": {
    "slideshow": {
     "slide_type": "slide"
    }
   },
   "source": [
    "woman - women"
   ]
  },
  {
   "cell_type": "markdown",
   "id": "28be7059",
   "metadata": {
    "slideshow": {
     "slide_type": "slide"
    }
   },
   "source": [
    "child - child**ren**"
   ]
  },
  {
   "cell_type": "markdown",
   "id": "250c88b8",
   "metadata": {},
   "source": [
    "person - people "
   ]
  },
  {
   "cell_type": "markdown",
   "id": "0f202283",
   "metadata": {
    "slideshow": {
     "slide_type": "slide"
    }
   },
   "source": [
    "# Some noums and only plurals"
   ]
  },
  {
   "cell_type": "markdown",
   "id": "4c7d9b07",
   "metadata": {
    "slideshow": {
     "slide_type": "slide"
    }
   },
   "source": [
    "* jeans  \n",
    "* scissors: tijeras\n",
    "* glasses  \n",
    "* sunglasses "
   ]
  },
  {
   "cell_type": "markdown",
   "id": "866cfae8",
   "metadata": {
    "slideshow": {
     "slide_type": "slide"
    }
   },
   "source": [
    "**scissors**: an instrument used for cutting cloth, paper, and other thin material, consisting of two blades laid one on top of the other and fastened in the middle so as to allow them to be opened and closed by a thumb and finger inserted through rings on the end of their handles.\n"
   ]
  },
  {
   "cell_type": "markdown",
   "id": "6c157522",
   "metadata": {
    "slideshow": {
     "slide_type": "slide"
    }
   },
   "source": [
    "**noun**: a word (other than a pronoun) used to identify any of a class of people, places, or things ( common noun ), or to name a particular one of these ( proper noun ).\n"
   ]
  },
  {
   "cell_type": "markdown",
   "id": "adf9d082",
   "metadata": {
    "slideshow": {
     "slide_type": "subslide"
    }
   },
   "source": [
    "# Exercise"
   ]
  },
  {
   "cell_type": "markdown",
   "id": "0f50368c",
   "metadata": {
    "slideshow": {
     "slide_type": "slide"
    }
   },
   "source": [
    "Complete the questions and answers about the pictures"
   ]
  },
  {
   "cell_type": "markdown",
   "id": "7af2cc34",
   "metadata": {
    "slideshow": {
     "slide_type": "slide"
    }
   },
   "source": [
    "A. What's this?  \n",
    "\n",
    "I think it's a cellphone"
   ]
  },
  {
   "cell_type": "markdown",
   "id": "e079a249",
   "metadata": {
    "slideshow": {
     "slide_type": "slide"
    }
   },
   "source": [
    "2. A. Is this your notebook?\n",
    "\n",
    "It's not. "
   ]
  },
  {
   "cell_type": "markdown",
   "id": "4d57f913",
   "metadata": {
    "slideshow": {
     "slide_type": "slide"
    }
   },
   "source": [
    "3. A. What are this?  \n",
    "   B.They're dictionaries. "
   ]
  },
  {
   "cell_type": "markdown",
   "id": "f799df69",
   "metadata": {
    "slideshow": {
     "slide_type": "slide"
    }
   },
   "source": [
    "4. A. Are this your pens?  \n",
    "   B. Yes, they are. "
   ]
  },
  {
   "cell_type": "markdown",
   "id": "65718c56",
   "metadata": {
    "slideshow": {
     "slide_type": "slide"
    }
   },
   "source": [
    "5. A. Are these your grasses?  \n",
    "   B. No. They're not.  "
   ]
  },
  {
   "cell_type": "markdown",
   "id": "05deaec8",
   "metadata": {
    "slideshow": {
     "slide_type": "slide"
    }
   },
   "source": [
    "6. A. What's this?  \n",
    "   B. It's an umbrella. "
   ]
  },
  {
   "cell_type": "markdown",
   "id": "56be63fe",
   "metadata": {
    "slideshow": {
     "slide_type": "slide"
    }
   },
   "source": [
    "6. A. What is this?  \n",
    "   B. It is an umbrella. "
   ]
  },
  {
   "cell_type": "markdown",
   "id": "1f9848f9",
   "metadata": {
    "slideshow": {
     "slide_type": "slide"
    }
   },
   "source": [
    "4. Speaking naturally. Noun plural ending. \n",
    "\n",
    "/s/wallet, book,        /z/pens, keys       //waches, oranges. "
   ]
  },
  {
   "cell_type": "markdown",
   "id": "236c76ec",
   "metadata": {
    "slideshow": {
     "slide_type": "slide"
    }
   },
   "source": [
    "A. "
   ]
  },
  {
   "cell_type": "code",
   "execution_count": null,
   "id": "50ea0471",
   "metadata": {
    "slideshow": {
     "slide_type": "slide"
    }
   },
   "outputs": [],
   "source": []
  },
  {
   "cell_type": "code",
   "execution_count": null,
   "id": "1e419c14",
   "metadata": {
    "slideshow": {
     "slide_type": "slide"
    }
   },
   "outputs": [],
   "source": []
  },
  {
   "cell_type": "markdown",
   "id": "c3cbd683",
   "metadata": {
    "slideshow": {
     "slide_type": "slide"
    }
   },
   "source": [
    "Thank you for waching.  \n",
    "Any question. "
   ]
  },
  {
   "cell_type": "code",
   "execution_count": null,
   "id": "7f11cc9f",
   "metadata": {
    "slideshow": {
     "slide_type": "slide"
    }
   },
   "outputs": [],
   "source": []
  }
 ],
 "metadata": {
  "celltoolbar": "Slideshow",
  "kernelspec": {
   "display_name": "Python 3 (ipykernel)",
   "language": "python",
   "name": "python3"
  },
  "language_info": {
   "codemirror_mode": {
    "name": "ipython",
    "version": 3
   },
   "file_extension": ".py",
   "mimetype": "text/x-python",
   "name": "python",
   "nbconvert_exporter": "python",
   "pygments_lexer": "ipython3",
   "version": "3.9.13"
  },
  "rise": {
   "enable_chalkboard": true,
   "theme": "sky"
  }
 },
 "nbformat": 4,
 "nbformat_minor": 5
}
