{
 "cells": [
  {
   "cell_type": "markdown",
   "id": "63797b03",
   "metadata": {
    "slideshow": {
     "slide_type": "slide"
    }
   },
   "source": [
    "<table align=\"left\">\n",
    "  <td>\n",
    "    <a href=\"https://colab.research.google.com/github/marco-canas/10_pygame/blob/main/1_capitulo_instalar_pygame.ipynb\" target=\"_parent\"><img src=\"https://colab.research.google.com/assets/colab-badge.svg\" alt=\"Open In Colab\"/></a>\n",
    "  </td>\n",
    "</table>"
   ]
  },
  {
   "cell_type": "markdown",
   "id": "1b504b6b",
   "metadata": {
    "slideshow": {
     "slide_type": "slide"
    }
   },
   "source": []
  },
  {
   "cell_type": "markdown",
   "id": "fab68511",
   "metadata": {
    "slideshow": {
     "slide_type": "slide"
    }
   },
   "source": [
    "# Unit 2 Lesson C In the classroom "
   ]
  },
  {
   "cell_type": "markdown",
   "id": "2d42fda4",
   "metadata": {
    "slideshow": {
     "slide_type": "slide"
    }
   },
   "source": [
    "<img src = 'https://github.com/marco-canas/9_english/blob/main/2_unit/in_the_classroom.png?raw=true'> "
   ]
  },
  {
   "cell_type": "markdown",
   "id": "b7b10a80",
   "metadata": {
    "slideshow": {
     "slide_type": "slide"
    }
   },
   "source": [
    "look "
   ]
  },
  {
   "cell_type": "markdown",
   "id": "bed856a3",
   "metadata": {
    "slideshow": {
     "slide_type": "slide"
    }
   },
   "source": [
    "I'm not in a classroom "
   ]
  },
  {
   "cell_type": "markdown",
   "id": "2d212a87",
   "metadata": {
    "slideshow": {
     "slide_type": "slide"
    }
   },
   "source": [
    "Listen a say the words "
   ]
  },
  {
   "cell_type": "markdown",
   "id": "97237b08",
   "metadata": {
    "slideshow": {
     "slide_type": "slide"
    }
   },
   "source": [
    "## Make a list"
   ]
  },
  {
   "cell_type": "markdown",
   "id": "025079b9",
   "metadata": {
    "slideshow": {
     "slide_type": "slide"
    }
   },
   "source": [
    "a map  \n",
    "and we have a board  \n"
   ]
  },
  {
   "cell_type": "markdown",
   "id": "b22b0f7a",
   "metadata": {
    "slideshow": {
     "slide_type": "slide"
    }
   },
   "source": [
    "how can say? "
   ]
  },
  {
   "cell_type": "markdown",
   "id": "f42377f1",
   "metadata": {
    "slideshow": {
     "slide_type": "slide"
    }
   },
   "source": [
    "# Prepositions "
   ]
  },
  {
   "cell_type": "markdown",
   "id": "7bb503a4",
   "metadata": {
    "slideshow": {
     "slide_type": "slide"
    }
   },
   "source": [
    "Una palabra que indica la posición de un objeto con respecto a otro. "
   ]
  },
  {
   "cell_type": "markdown",
   "id": "29b23335",
   "metadata": {
    "slideshow": {
     "slide_type": "slide"
    }
   },
   "source": [
    "* on \n",
    "* under  \n",
    "* in  \n",
    "* next to \n",
    "* in front of "
   ]
  },
  {
   "cell_type": "markdown",
   "id": "f8bc5c55",
   "metadata": {
    "slideshow": {
     "slide_type": "slide"
    }
   },
   "source": [
    "you can say "
   ]
  },
  {
   "cell_type": "markdown",
   "id": "e5b0e1f2",
   "metadata": {
    "slideshow": {
     "slide_type": "slide"
    }
   },
   "source": [
    "## Example\n",
    "* in front of the people  "
   ]
  },
  {
   "cell_type": "markdown",
   "id": "1e93143f",
   "metadata": {},
   "source": [
    "# Cuestionario"
   ]
  },
  {
   "cell_type": "markdown",
   "id": "b8fba12a",
   "metadata": {
    "slideshow": {
     "slide_type": "slide"
    }
   },
   "source": [
    "Where's David? \n",
    "\n",
    "I don't know. I think He's sinck. "
   ]
  },
  {
   "cell_type": "markdown",
   "id": "a4115787",
   "metadata": {
    "slideshow": {
     "slide_type": "slide"
    }
   },
   "source": [
    "is Ana in class today?\n",
    "No. She's at home, I think"
   ]
  },
  {
   "cell_type": "markdown",
   "id": "51636cd4",
   "metadata": {
    "slideshow": {
     "slide_type": "slide"
    }
   },
   "source": [
    "Demostrativo de cercanía y plural. La respuesta afirmativa no se contrae.\n",
    "\n",
    "* Are these your pens? \n",
    "* Yeah, They are. Thanks. \n"
   ]
  },
  {
   "cell_type": "markdown",
   "id": "9d335342",
   "metadata": {},
   "source": [
    "The dictionaries are on the teacher's desk. "
   ]
  },
  {
   "cell_type": "markdown",
   "id": "8aed73b9",
   "metadata": {},
   "source": [
    "what's the word for this in english? "
   ]
  },
  {
   "cell_type": "code",
   "execution_count": null,
   "id": "43e95f1b",
   "metadata": {},
   "outputs": [],
   "source": []
  }
 ],
 "metadata": {
  "celltoolbar": "Slideshow",
  "kernelspec": {
   "display_name": "Python 3 (ipykernel)",
   "language": "python",
   "name": "python3"
  },
  "language_info": {
   "codemirror_mode": {
    "name": "ipython",
    "version": 3
   },
   "file_extension": ".py",
   "mimetype": "text/x-python",
   "name": "python",
   "nbconvert_exporter": "python",
   "pygments_lexer": "ipython3",
   "version": "3.9.13"
  },
  "rise": {
   "enable_chalkboard": true,
   "theme": "sky"
  }
 },
 "nbformat": 4,
 "nbformat_minor": 5
}
